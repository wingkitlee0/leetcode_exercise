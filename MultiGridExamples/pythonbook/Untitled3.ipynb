{
 "cells": [
  {
   "cell_type": "code",
   "execution_count": 1,
   "metadata": {},
   "outputs": [],
   "source": [
    "import numpy as np\n",
    "import matplotlib.pyplot as plt"
   ]
  },
  {
   "cell_type": "code",
   "execution_count": 5,
   "metadata": {},
   "outputs": [],
   "source": [
    "class Grid2:\n",
    "    \"\"\"\n",
    "    Standard grid with endpoints as boundary points.\n",
    "    \n",
    "    For N+1 grid points, there are N-1 interior points for the equations\n",
    "    \n",
    "    Args:\n",
    "        lbc, rbc : 0 for zero BC. Other BCs are not implemented.\n",
    "    \"\"\"\n",
    "    def __init__(self, N, xmin=0.0, xmax=1.0, lbc=0, rbc=0):\n",
    "        self.N = N\n",
    "        self.xmin = xmin\n",
    "        self.xmax = xmax\n",
    "        self.lbc = lbc\n",
    "        self.rbc = rbc\n",
    "        \n",
    "        # create points\n",
    "        x = np.linspace(self.xmin, self.xmax, N+1, endpoint=True)\n",
    "        if self.lbc==0 and self.rbc==0:\n",
    "            self.x = x[1:-1]\n",
    "        else:\n",
    "            print(\"BCs not implemented.\")\n",
    "            exit(1)\n",
    "            \n",
    "        self.h = self.x[1]-self.x[0]\n",
    "        self.h2= self.h**2"
   ]
  },
  {
   "cell_type": "code",
   "execution_count": 6,
   "metadata": {},
   "outputs": [],
   "source": [
    "grid = Grid2(N=8)"
   ]
  },
  {
   "cell_type": "code",
   "execution_count": 7,
   "metadata": {},
   "outputs": [
    {
     "data": {
      "text/plain": [
       "array([0.125, 0.25 , 0.375, 0.5  , 0.625, 0.75 , 0.875])"
      ]
     },
     "execution_count": 7,
     "metadata": {},
     "output_type": "execute_result"
    }
   ],
   "source": [
    "grid.x"
   ]
  },
  {
   "cell_type": "code",
   "execution_count": null,
   "metadata": {},
   "outputs": [],
   "source": []
  }
 ],
 "metadata": {
  "kernelspec": {
   "display_name": "Python 3",
   "language": "python",
   "name": "python3"
  },
  "language_info": {
   "codemirror_mode": {
    "name": "ipython",
    "version": 3
   },
   "file_extension": ".py",
   "mimetype": "text/x-python",
   "name": "python",
   "nbconvert_exporter": "python",
   "pygments_lexer": "ipython3",
   "version": "3.6.8"
  }
 },
 "nbformat": 4,
 "nbformat_minor": 2
}
