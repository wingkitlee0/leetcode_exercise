{
 "cells": [
  {
   "cell_type": "code",
   "execution_count": 107,
   "metadata": {},
   "outputs": [],
   "source": [
    "import numpy as np\n",
    "import matplotlib.pyplot as plt"
   ]
  },
  {
   "cell_type": "code",
   "execution_count": 108,
   "metadata": {},
   "outputs": [],
   "source": [
    "RR = np.array([[0.5, 0.5, 0., 0.0], [0., 0., 0.5, 0.5]])\n",
    "II = np.array([\n",
    "    [0.5 , 0.0],\n",
    "    [0.75, 0.25],\n",
    "    [0.25, 0.75],\n",
    "    [0.0 , 0.5 ]\n",
    "])"
   ]
  },
  {
   "cell_type": "code",
   "execution_count": 109,
   "metadata": {},
   "outputs": [],
   "source": [
    "A = np.array([\n",
    "    [-2.0, 1.0, 0.0, 0.0],\n",
    "    [1.0 ,-2.0, 1.0, 0.0],\n",
    "    [0.0 , 1.0,-2.0, 1.0],\n",
    "    [0.0 , 0.0, 1.0,-2.0]    \n",
    "])"
   ]
  },
  {
   "cell_type": "code",
   "execution_count": 110,
   "metadata": {},
   "outputs": [
    {
     "data": {
      "text/plain": [
       "array([[-0.5 ,  0.25],\n",
       "       [ 0.25, -0.5 ]])"
      ]
     },
     "execution_count": 110,
     "metadata": {},
     "output_type": "execute_result"
    }
   ],
   "source": [
    "np.dot(RR, np.dot(A, II))"
   ]
  },
  {
   "cell_type": "code",
   "execution_count": 111,
   "metadata": {},
   "outputs": [],
   "source": [
    "D = np.array([\n",
    "    [0.0 ,-0.5, 0.0, 0.0],\n",
    "    [0.5 , 0.0,-0.5, 0.0],\n",
    "    [0.0 , 0.5, 0.0,-0.5],\n",
    "    [0.0 , 0.0, 0.5, 0.0]    \n",
    "])"
   ]
  },
  {
   "cell_type": "code",
   "execution_count": 112,
   "metadata": {},
   "outputs": [
    {
     "data": {
      "text/plain": [
       "array([[-0.125, -0.25 ],\n",
       "       [ 0.25 ,  0.125]])"
      ]
     },
     "execution_count": 112,
     "metadata": {},
     "output_type": "execute_result"
    }
   ],
   "source": [
    "np.dot(RR, np.dot(D, II))"
   ]
  },
  {
   "cell_type": "code",
   "execution_count": 113,
   "metadata": {},
   "outputs": [],
   "source": [
    "x = np.arange(4) + 0.5"
   ]
  },
  {
   "cell_type": "code",
   "execution_count": 114,
   "metadata": {},
   "outputs": [
    {
     "data": {
      "text/plain": [
       "array([0.5, 1.5, 2.5, 3.5])"
      ]
     },
     "execution_count": 114,
     "metadata": {},
     "output_type": "execute_result"
    }
   ],
   "source": [
    "x"
   ]
  },
  {
   "cell_type": "code",
   "execution_count": 115,
   "metadata": {},
   "outputs": [
    {
     "data": {
      "text/plain": [
       "array([1., 3.])"
      ]
     },
     "execution_count": 115,
     "metadata": {},
     "output_type": "execute_result"
    }
   ],
   "source": [
    "np.dot(RR, x)"
   ]
  },
  {
   "cell_type": "code",
   "execution_count": 116,
   "metadata": {},
   "outputs": [],
   "source": [
    "def set_RR(N):\n",
    "    assert(N % 2 == 0)\n",
    "    \n",
    "    RR = np.zeros((N//2, N))\n",
    "    for i in range(N//2):\n",
    "        RR[i,2*i+0] = 0.5\n",
    "        RR[i,2*i+1] = 0.5\n",
    "    return RR\n",
    "\n",
    "def set_II(N):\n",
    "    \"\"\"\n",
    "    Matrix for interpolation. Zero BC only\n",
    "    \"\"\"\n",
    "    assert(N % 2 == 0)\n",
    "    \n",
    "    II = np.zeros((N, N//2))\n",
    "    II[0,0] = 0.5\n",
    "    for i in range(N//2-1):\n",
    "        print(i)\n",
    "        II[1+2*i, i+0] = 0.75\n",
    "        II[1+2*i, i+1] = 0.25\n",
    "        II[2+2*i, i+0] = 0.25\n",
    "        II[2+2*i, i+1] = 0.75\n",
    "    II[-1,-1] = 0.5\n",
    "    return II"
   ]
  },
  {
   "cell_type": "code",
   "execution_count": 117,
   "metadata": {},
   "outputs": [
    {
     "data": {
      "text/plain": [
       "array([[0.5, 0.5, 0. , 0. , 0. , 0. , 0. , 0. ],\n",
       "       [0. , 0. , 0.5, 0.5, 0. , 0. , 0. , 0. ],\n",
       "       [0. , 0. , 0. , 0. , 0.5, 0.5, 0. , 0. ],\n",
       "       [0. , 0. , 0. , 0. , 0. , 0. , 0.5, 0.5]])"
      ]
     },
     "execution_count": 117,
     "metadata": {},
     "output_type": "execute_result"
    }
   ],
   "source": [
    "set_RR(8)"
   ]
  },
  {
   "cell_type": "code",
   "execution_count": 118,
   "metadata": {},
   "outputs": [
    {
     "name": "stdout",
     "output_type": "stream",
     "text": [
      "0\n",
      "1\n",
      "2\n"
     ]
    },
    {
     "data": {
      "text/plain": [
       "array([[0.5 , 0.  , 0.  , 0.  ],\n",
       "       [0.75, 0.25, 0.  , 0.  ],\n",
       "       [0.25, 0.75, 0.  , 0.  ],\n",
       "       [0.  , 0.75, 0.25, 0.  ],\n",
       "       [0.  , 0.25, 0.75, 0.  ],\n",
       "       [0.  , 0.  , 0.75, 0.25],\n",
       "       [0.  , 0.  , 0.25, 0.75],\n",
       "       [0.  , 0.  , 0.  , 0.5 ]])"
      ]
     },
     "execution_count": 118,
     "metadata": {},
     "output_type": "execute_result"
    }
   ],
   "source": [
    "set_II(8)"
   ]
  },
  {
   "cell_type": "code",
   "execution_count": 428,
   "metadata": {},
   "outputs": [],
   "source": [
    "func = lambda x: np.sin(x) # this is RHS\n",
    "\n",
    "class SingleLevel:\n",
    "    def __init__(self, N, xmin=0.0, xmax=1.0):\n",
    "        assert(N % 2 == 0)\n",
    "        self.N = N\n",
    "        self.xmin = xmin\n",
    "        self.xmax = xmax\n",
    "        self.h = (self.xmax-self.xmin)/self.N\n",
    "        self.h2 = self.h**2\n",
    "        self.x = np.linspace(0.0, 1.0, self.N, endpoint=False) + 0.5/self.N\n",
    "        \n",
    "        self.AA = self.set_AA(self.N)\n",
    "        self.RR = self.set_RR(self.N)\n",
    "        self.II = self.set_II(self.N)\n",
    "        \n",
    "    def set_AA(self, N):\n",
    "        AA = np.zeros((N, N))\n",
    "        stencil = [1,-2,1]\n",
    "        AA[0,:2] = stencil[1:]\n",
    "        for i in range(1,N-1):\n",
    "            AA[i,i-1:i+2] = stencil[:]\n",
    "        AA[-1,-2:] = stencil[:-1]\n",
    "        return AA\n",
    "    \n",
    "    def smoothing(self, u):\n",
    "        \"\"\"\n",
    "        smoothing: this is a single step Jacobi iteration\n",
    "        \"\"\"\n",
    "        assert(u.shape[0] % 2 == 0)\n",
    "        v = u.copy()\n",
    "        rhs = func(self.x)\n",
    "        v[0]    = 1.0/3.0* (v[1] - self.h2 * rhs[0] )\n",
    "        v[1:-1] = 0.5*(v[2:] + v[:-2] - self.h2 * rhs[1:-1] )\n",
    "        v[-1]   = 1.0/3.0*(v[-2] - self.h2 * rhs[-1] )\n",
    "        return v\n",
    "    \n",
    "    def set_RR(self, N):\n",
    "        assert(N % 2 == 0)\n",
    "\n",
    "        RR = np.zeros((N//2, N))\n",
    "        for i in range(N//2):\n",
    "            RR[i,2*i+0] = 0.5\n",
    "            RR[i,2*i+1] = 0.5\n",
    "        return RR\n",
    "\n",
    "    def set_II(self, N):\n",
    "        \"\"\"\n",
    "        Matrix for interpolation. Zero BC only\n",
    "        \"\"\"\n",
    "        assert(N % 2 == 0)\n",
    "\n",
    "        II = np.zeros((N, N//2))\n",
    "        II[0,0] = 0.5\n",
    "        for i in range(N//2-1):\n",
    "            print(i)\n",
    "            II[1+2*i, i+0] = 0.75\n",
    "            II[1+2*i, i+1] = 0.25\n",
    "            II[2+2*i, i+0] = 0.25\n",
    "            II[2+2*i, i+1] = 0.75\n",
    "        II[-1,-1] = 0.5\n",
    "        return II\n",
    "    \n",
    "def compute_l2(err):\n",
    "    return np.sum(err**2)"
   ]
  },
  {
   "cell_type": "code",
   "execution_count": 429,
   "metadata": {},
   "outputs": [
    {
     "name": "stdout",
     "output_type": "stream",
     "text": [
      "0\n",
      "[0.125 0.375 0.625 0.875]\n"
     ]
    }
   ],
   "source": [
    "level = SingleLevel(N=4)\n",
    "print(level.x)"
   ]
  },
  {
   "cell_type": "code",
   "execution_count": 430,
   "metadata": {},
   "outputs": [
    {
     "data": {
      "text/plain": [
       "array([[-2.,  1.,  0.,  0.],\n",
       "       [ 1., -2.,  1.,  0.],\n",
       "       [ 0.,  1., -2.,  1.],\n",
       "       [ 0.,  0.,  1., -2.]])"
      ]
     },
     "execution_count": 430,
     "metadata": {},
     "output_type": "execute_result"
    }
   ],
   "source": [
    "level.AA"
   ]
  },
  {
   "cell_type": "code",
   "execution_count": 329,
   "metadata": {},
   "outputs": [
    {
     "data": {
      "text/plain": [
       "array([0.125, 0.375, 0.625, 0.875])"
      ]
     },
     "execution_count": 329,
     "metadata": {},
     "output_type": "execute_result"
    }
   ],
   "source": [
    "level.x"
   ]
  },
  {
   "cell_type": "code",
   "execution_count": 330,
   "metadata": {},
   "outputs": [],
   "source": [
    "x = np.arange(10)"
   ]
  },
  {
   "cell_type": "code",
   "execution_count": 331,
   "metadata": {},
   "outputs": [
    {
     "data": {
      "text/plain": [
       "array([0, 1, 2, 3, 4, 5, 6, 7, 8, 9])"
      ]
     },
     "execution_count": 331,
     "metadata": {},
     "output_type": "execute_result"
    }
   ],
   "source": [
    "x"
   ]
  },
  {
   "cell_type": "code",
   "execution_count": 332,
   "metadata": {},
   "outputs": [],
   "source": [
    "x[1:-1] = 0.5 * (x[2:] + x[:-2])"
   ]
  },
  {
   "cell_type": "code",
   "execution_count": 333,
   "metadata": {},
   "outputs": [
    {
     "data": {
      "text/plain": [
       "(10,)"
      ]
     },
     "execution_count": 333,
     "metadata": {},
     "output_type": "execute_result"
    }
   ],
   "source": [
    "x.shape"
   ]
  },
  {
   "cell_type": "code",
   "execution_count": 334,
   "metadata": {},
   "outputs": [],
   "source": [
    "level = SingleLevel(N=8)"
   ]
  },
  {
   "cell_type": "code",
   "execution_count": 335,
   "metadata": {},
   "outputs": [],
   "source": [
    "u0 = -np.sin(level.x)\n",
    "sol_f = lambda x: -np.sin(x) + np.sin(1.0) * x\n",
    "u_sol = sol_f(level.x)\n",
    "\n",
    "omega_jacobi = 2.0/3.0"
   ]
  },
  {
   "cell_type": "code",
   "execution_count": 336,
   "metadata": {},
   "outputs": [
    {
     "data": {
      "image/png": "[encoded data removed]",
      "text/plain": [
       "<Figure size 432x288 with 1 Axes>"
      ]
     },
     "metadata": {
      "needs_background": "light"
     },
     "output_type": "display_data"
    }
   ],
   "source": [
    "l2list = []\n",
    "\n",
    "fig, ax = plt.subplots()\n",
    "err = u_sol - u0\n",
    "l2list.append(compute_l2(err))\n",
    "\n",
    "ax.plot(level.x, err)\n",
    "u = u0.copy()\n",
    "for itr in range(1000):\n",
    "    u_new = level.smoothing(u)\n",
    "    # jacobi step\n",
    "    u_new = (1.0 - omega_jacobi) * u + omega_jacobi * u_new\n",
    "    \n",
    "    u = u_new\n",
    "    if itr % 10 == 0:\n",
    "        err = u_sol - u\n",
    "        l2list.append(compute_l2(err))\n",
    "        ax.plot(level.x, u)"
   ]
  },
  {
   "cell_type": "code",
   "execution_count": 337,
   "metadata": {},
   "outputs": [
    {
     "data": {
      "image/png": "[encoded data removed]",
      "text/plain": [
       "<Figure size 432x288 with 1 Axes>"
      ]
     },
     "metadata": {
      "needs_background": "light"
     },
     "output_type": "display_data"
    }
   ],
   "source": [
    "niter = len(l2list)\n",
    "fig, ax = plt.subplots()\n",
    "ax.plot(range(niter), l2list_full)\n",
    "ax.plot(range(niter), l2list)\n",
    "ax.set_yscale(\"log\")\n",
    "ax.set_xscale(\"log\")"
   ]
  },
  {
   "cell_type": "code",
   "execution_count": 322,
   "metadata": {},
   "outputs": [],
   "source": [
    "l2list_full = l2list.copy()"
   ]
  },
  {
   "cell_type": "code",
   "execution_count": 281,
   "metadata": {},
   "outputs": [
    {
     "data": {
      "text/plain": [
       "8"
      ]
     },
     "execution_count": 281,
     "metadata": {},
     "output_type": "execute_result"
    }
   ],
   "source": [
    "level.N"
   ]
  },
  {
   "cell_type": "code",
   "execution_count": 412,
   "metadata": {},
   "outputs": [
    {
     "name": "stdout",
     "output_type": "stream",
     "text": [
      "initial u_h [-0.06245932 -0.1864033  -0.30743851 -0.42367626 -0.53330267 -0.63460708\n",
      " -0.72600866 -0.80608111]\n",
      "0\n",
      "1\n",
      "2\n"
     ]
    }
   ],
   "source": [
    "u_h = u0.copy()\n",
    "print(\"initial u_h\", u_h)\n",
    "RR = set_RR(N=8)\n",
    "II = set_II(N=8)"
   ]
  },
  {
   "cell_type": "code",
   "execution_count": 413,
   "metadata": {},
   "outputs": [
    {
     "name": "stdout",
     "output_type": "stream",
     "text": [
      "[ 0.12394398  0.18349454  0.30264104  0.41706493  0.52498066  0.62470425\n",
      "  0.71467953 -0.08007245]\n",
      "[0.15371926 0.35985299 0.57484246 0.31730354]\n"
     ]
    }
   ],
   "source": [
    "f_h = func(level.x)\n",
    "# residual at current level\n",
    "r_h = rhs - np.dot(level.AA, u_h)\n",
    "print(r_h)\n",
    "# smooth?\n",
    "r_2h = np.dot(RR, r_h)\n",
    "print(r_2h)"
   ]
  },
  {
   "cell_type": "code",
   "execution_count": null,
   "metadata": {},
   "outputs": [],
   "source": [
    "A_2h = np.dot(RR, np.dot(level.AA, II))\n",
    "# solve A_2h\n",
    "e_2h = np.linalg.solve(A_2h, r_2h)\n",
    "print(e_2h)"
   ]
  },
  {
   "cell_type": "code",
   "execution_count": 384,
   "metadata": {},
   "outputs": [
    {
     "name": "stdout",
     "output_type": "stream",
     "text": [
      "[-1.26456977 -3.00770518 -3.96483644 -4.56211472 -4.79954001 -4.46212284\n",
      " -3.54986322 -1.5468667 ]\n"
     ]
    }
   ],
   "source": [
    "e_h = np.dot(II, e_2h)\n",
    "print(e_h)"
   ]
  },
  {
   "cell_type": "code",
   "execution_count": 385,
   "metadata": {},
   "outputs": [],
   "source": [
    "u_new = u_h + e_h"
   ]
  },
  {
   "cell_type": "code",
   "execution_count": 386,
   "metadata": {},
   "outputs": [
    {
     "data": {
      "text/plain": [
       "array([-1.32702909, -3.19410848, -4.27227495, -4.98579097, -5.33284268,\n",
       "       -5.09672992, -4.27587187, -2.35294781])"
      ]
     },
     "execution_count": 386,
     "metadata": {},
     "output_type": "execute_result"
    }
   ],
   "source": [
    "u_new"
   ]
  },
  {
   "cell_type": "code",
   "execution_count": 387,
   "metadata": {},
   "outputs": [
    {
     "data": {
      "text/plain": [
       "[<matplotlib.lines.Line2D at 0x7fb447038160>]"
      ]
     },
     "execution_count": 387,
     "metadata": {},
     "output_type": "execute_result"
    },
    {
     "data": {
      "image/png": "[encoded data removed]",
      "text/plain": [
       "<Figure size 432x288 with 1 Axes>"
      ]
     },
     "metadata": {
      "needs_background": "light"
     },
     "output_type": "display_data"
    }
   ],
   "source": [
    "fig, ax = plt.subplots()\n",
    "#ax.plot(level.x, u_h)\n",
    "ax.plot(level.x, u_new)\n",
    "ax.plot(level.x, u_sol)"
   ]
  },
  {
   "cell_type": "code",
   "execution_count": 415,
   "metadata": {},
   "outputs": [
    {
     "name": "stdout",
     "output_type": "stream",
     "text": [
      "0\n"
     ]
    }
   ],
   "source": [
    "level_1 = SingleLevel(N=4)\n",
    "RR = set_RR(N=4)\n",
    "II = set_II(N=4)\n",
    "A_4h = np.dot(RR, np.dot(level_1.AA, II))"
   ]
  },
  {
   "cell_type": "code",
   "execution_count": 418,
   "metadata": {},
   "outputs": [
    {
     "name": "stdout",
     "output_type": "stream",
     "text": [
      "[0.25678612 0.446073  ]\n"
     ]
    }
   ],
   "source": [
    "r_4h = np.dot(RR, r_2h)\n",
    "print(r_4h)"
   ]
  },
  {
   "cell_type": "code",
   "execution_count": 419,
   "metadata": {},
   "outputs": [
    {
     "name": "stdout",
     "output_type": "stream",
     "text": [
      "[-1.27952699 -1.53190949]\n"
     ]
    }
   ],
   "source": [
    "e_4h = np.linalg.solve(A_4h, r_4h)\n",
    "print(e_4h)"
   ]
  },
  {
   "cell_type": "code",
   "execution_count": 420,
   "metadata": {},
   "outputs": [
    {
     "name": "stdout",
     "output_type": "stream",
     "text": [
      "[-0.63976349 -1.34262261 -1.46881386 -0.76595474]\n"
     ]
    }
   ],
   "source": [
    "e_2h = np.dot(II, e_4h)\n",
    "print(e_2h)"
   ]
  },
  {
   "cell_type": "code",
   "execution_count": 421,
   "metadata": {},
   "outputs": [
    {
     "name": "stdout",
     "output_type": "stream",
     "text": [
      "0\n",
      "1\n",
      "2\n"
     ]
    }
   ],
   "source": [
    "II = set_II(N=8)\n",
    "e_h = np.dot(II, e_2h)"
   ]
  },
  {
   "cell_type": "code",
   "execution_count": 422,
   "metadata": {},
   "outputs": [
    {
     "data": {
      "text/plain": [
       "array([-0.31988175, -0.81547827, -1.16690783, -1.37417043, -1.43726605,\n",
       "       -1.29309908, -0.94166952, -0.38297737])"
      ]
     },
     "execution_count": 422,
     "metadata": {},
     "output_type": "execute_result"
    }
   ],
   "source": [
    "e_h"
   ]
  },
  {
   "cell_type": "code",
   "execution_count": 423,
   "metadata": {},
   "outputs": [],
   "source": [
    "u_new2 = u_h + e_h"
   ]
  },
  {
   "cell_type": "code",
   "execution_count": 424,
   "metadata": {},
   "outputs": [
    {
     "data": {
      "text/plain": [
       "array([-0.38234106, -1.00188157, -1.47434635, -1.79784668, -1.97056873,\n",
       "       -1.92770616, -1.66767818, -1.18905848])"
      ]
     },
     "execution_count": 424,
     "metadata": {},
     "output_type": "execute_result"
    }
   ],
   "source": [
    "u_new2"
   ]
  },
  {
   "cell_type": "code",
   "execution_count": 425,
   "metadata": {},
   "outputs": [
    {
     "data": {
      "text/plain": [
       "[<matplotlib.lines.Line2D at 0x7fb44704cc18>]"
      ]
     },
     "execution_count": 425,
     "metadata": {},
     "output_type": "execute_result"
    },
    {
     "data": {
      "image/png": "[encoded data removed]",
      "text/plain": [
       "<Figure size 432x288 with 1 Axes>"
      ]
     },
     "metadata": {
      "needs_background": "light"
     },
     "output_type": "display_data"
    }
   ],
   "source": [
    "fig, ax = plt.subplots()\n",
    "#ax.plot(level.x, u_h)\n",
    "ax.plot(level.x, u_new2)\n",
    "#.plot(level.x, u_new)\n",
    "ax.plot(level.x, u_sol)"
   ]
  },
  {
   "cell_type": "code",
   "execution_count": 410,
   "metadata": {},
   "outputs": [],
   "source": [
    "u_h = u_new2"
   ]
  },
  {
   "cell_type": "code",
   "execution_count": 431,
   "metadata": {},
   "outputs": [
    {
     "name": "stdout",
     "output_type": "stream",
     "text": [
      "0\n",
      "1\n",
      "2\n",
      "0\n"
     ]
    }
   ],
   "source": [
    "levels = []\n",
    "for n in [8,4,2]:\n",
    "    levels.append(SingleLevel(n))"
   ]
  },
  {
   "cell_type": "code",
   "execution_count": 437,
   "metadata": {},
   "outputs": [],
   "source": [
    "def singleVcycle(u0, levels):\n",
    "    \"\"\"\n",
    "    single V cycle:\n",
    "    u0 : finest grid\n",
    "    \"\"\"\n",
    "    \n",
    "    u_f = u0.copy()\n",
    "    u = u0.copy()\n",
    "    for i, lvl in enumerate(levels):\n",
    "        print(\"level (finest=0): \", lvl.N)\n",
    "        if (i == len(levels)-1):\n",
    "            print(\"this is coarest level.\")\n",
    "            err = np.linalg.solve(lvl.AA, res_c)\n",
    "        else:\n",
    "            usmooth = lvl.smoothing(u)\n",
    "            usmooth = lvl.smoothing(usmooth)\n",
    "\n",
    "            # residual at the current level\n",
    "            res_f =func(lvl.x) - np.dot(lvl.AA, u)\n",
    "            \n",
    "            res_c = np.dot(lvl.RR, res_f)\n",
    "            \n",
    "            u = \n",
    "            \n",
    "            \n",
    "            \n",
    "            \n",
    "            \n",
    "        \n",
    "        "
   ]
  },
  {
   "cell_type": "code",
   "execution_count": 438,
   "metadata": {},
   "outputs": [
    {
     "name": "stdout",
     "output_type": "stream",
     "text": [
      "level (finest=0):  8\n",
      "level (finest=0):  4\n"
     ]
    },
    {
     "ename": "ValueError",
     "evalue": "operands could not be broadcast together with shapes (6,) (2,) ",
     "output_type": "error",
     "traceback": [
      "\u001b[0;31m---------------------------------------------------------------------------\u001b[0m",
      "\u001b[0;31mValueError\u001b[0m                                Traceback (most recent call last)",
      "\u001b[0;32m<ipython-input-438-50d4da7ad068>\u001b[0m in \u001b[0;36m<module>\u001b[0;34m\u001b[0m\n\u001b[0;32m----> 1\u001b[0;31m \u001b[0msingleVcycle\u001b[0m\u001b[0;34m(\u001b[0m\u001b[0mu0\u001b[0m\u001b[0;34m,\u001b[0m \u001b[0mlevels\u001b[0m\u001b[0;34m)\u001b[0m\u001b[0;34m\u001b[0m\u001b[0m\n\u001b[0m",
      "\u001b[0;32m<ipython-input-437-f6aff627e963>\u001b[0m in \u001b[0;36msingleVcycle\u001b[0;34m(u0, levels)\u001b[0m\n\u001b[1;32m     13\u001b[0m             \u001b[0merr\u001b[0m \u001b[0;34m=\u001b[0m \u001b[0mnp\u001b[0m\u001b[0;34m.\u001b[0m\u001b[0mlinalg\u001b[0m\u001b[0;34m.\u001b[0m\u001b[0msolve\u001b[0m\u001b[0;34m(\u001b[0m\u001b[0mlvl\u001b[0m\u001b[0;34m.\u001b[0m\u001b[0mAA\u001b[0m\u001b[0;34m,\u001b[0m \u001b[0mres_c\u001b[0m\u001b[0;34m)\u001b[0m\u001b[0;34m\u001b[0m\u001b[0m\n\u001b[1;32m     14\u001b[0m         \u001b[0;32melse\u001b[0m\u001b[0;34m:\u001b[0m\u001b[0;34m\u001b[0m\u001b[0m\n\u001b[0;32m---> 15\u001b[0;31m             \u001b[0musmooth\u001b[0m \u001b[0;34m=\u001b[0m \u001b[0mlvl\u001b[0m\u001b[0;34m.\u001b[0m\u001b[0msmoothing\u001b[0m\u001b[0;34m(\u001b[0m\u001b[0mu\u001b[0m\u001b[0;34m)\u001b[0m\u001b[0;34m\u001b[0m\u001b[0m\n\u001b[0m\u001b[1;32m     16\u001b[0m             \u001b[0musmooth\u001b[0m \u001b[0;34m=\u001b[0m \u001b[0mlvl\u001b[0m\u001b[0;34m.\u001b[0m\u001b[0msmoothing\u001b[0m\u001b[0;34m(\u001b[0m\u001b[0musmooth\u001b[0m\u001b[0;34m)\u001b[0m\u001b[0;34m\u001b[0m\u001b[0m\n\u001b[1;32m     17\u001b[0m \u001b[0;34m\u001b[0m\u001b[0m\n",
      "\u001b[0;32m<ipython-input-428-2e4b80e4db6d>\u001b[0m in \u001b[0;36msmoothing\u001b[0;34m(self, u)\u001b[0m\n\u001b[1;32m     32\u001b[0m         \u001b[0mrhs\u001b[0m \u001b[0;34m=\u001b[0m \u001b[0mfunc\u001b[0m\u001b[0;34m(\u001b[0m\u001b[0mself\u001b[0m\u001b[0;34m.\u001b[0m\u001b[0mx\u001b[0m\u001b[0;34m)\u001b[0m\u001b[0;34m\u001b[0m\u001b[0m\n\u001b[1;32m     33\u001b[0m         \u001b[0mv\u001b[0m\u001b[0;34m[\u001b[0m\u001b[0;36m0\u001b[0m\u001b[0;34m]\u001b[0m    \u001b[0;34m=\u001b[0m \u001b[0;36m1.0\u001b[0m\u001b[0;34m/\u001b[0m\u001b[0;36m3.0\u001b[0m\u001b[0;34m*\u001b[0m \u001b[0;34m(\u001b[0m\u001b[0mv\u001b[0m\u001b[0;34m[\u001b[0m\u001b[0;36m1\u001b[0m\u001b[0;34m]\u001b[0m \u001b[0;34m-\u001b[0m \u001b[0mself\u001b[0m\u001b[0;34m.\u001b[0m\u001b[0mh2\u001b[0m \u001b[0;34m*\u001b[0m \u001b[0mrhs\u001b[0m\u001b[0;34m[\u001b[0m\u001b[0;36m0\u001b[0m\u001b[0;34m]\u001b[0m \u001b[0;34m)\u001b[0m\u001b[0;34m\u001b[0m\u001b[0m\n\u001b[0;32m---> 34\u001b[0;31m         \u001b[0mv\u001b[0m\u001b[0;34m[\u001b[0m\u001b[0;36m1\u001b[0m\u001b[0;34m:\u001b[0m\u001b[0;34m-\u001b[0m\u001b[0;36m1\u001b[0m\u001b[0;34m]\u001b[0m \u001b[0;34m=\u001b[0m \u001b[0;36m0.5\u001b[0m\u001b[0;34m*\u001b[0m\u001b[0;34m(\u001b[0m\u001b[0mv\u001b[0m\u001b[0;34m[\u001b[0m\u001b[0;36m2\u001b[0m\u001b[0;34m:\u001b[0m\u001b[0;34m]\u001b[0m \u001b[0;34m+\u001b[0m \u001b[0mv\u001b[0m\u001b[0;34m[\u001b[0m\u001b[0;34m:\u001b[0m\u001b[0;34m-\u001b[0m\u001b[0;36m2\u001b[0m\u001b[0;34m]\u001b[0m \u001b[0;34m-\u001b[0m \u001b[0mself\u001b[0m\u001b[0;34m.\u001b[0m\u001b[0mh2\u001b[0m \u001b[0;34m*\u001b[0m \u001b[0mrhs\u001b[0m\u001b[0;34m[\u001b[0m\u001b[0;36m1\u001b[0m\u001b[0;34m:\u001b[0m\u001b[0;34m-\u001b[0m\u001b[0;36m1\u001b[0m\u001b[0;34m]\u001b[0m \u001b[0;34m)\u001b[0m\u001b[0;34m\u001b[0m\u001b[0m\n\u001b[0m\u001b[1;32m     35\u001b[0m         \u001b[0mv\u001b[0m\u001b[0;34m[\u001b[0m\u001b[0;34m-\u001b[0m\u001b[0;36m1\u001b[0m\u001b[0;34m]\u001b[0m   \u001b[0;34m=\u001b[0m \u001b[0;36m1.0\u001b[0m\u001b[0;34m/\u001b[0m\u001b[0;36m3.0\u001b[0m\u001b[0;34m*\u001b[0m\u001b[0;34m(\u001b[0m\u001b[0mv\u001b[0m\u001b[0;34m[\u001b[0m\u001b[0;34m-\u001b[0m\u001b[0;36m2\u001b[0m\u001b[0;34m]\u001b[0m \u001b[0;34m-\u001b[0m \u001b[0mself\u001b[0m\u001b[0;34m.\u001b[0m\u001b[0mh2\u001b[0m \u001b[0;34m*\u001b[0m \u001b[0mrhs\u001b[0m\u001b[0;34m[\u001b[0m\u001b[0;34m-\u001b[0m\u001b[0;36m1\u001b[0m\u001b[0;34m]\u001b[0m \u001b[0;34m)\u001b[0m\u001b[0;34m\u001b[0m\u001b[0m\n\u001b[1;32m     36\u001b[0m         \u001b[0;32mreturn\u001b[0m \u001b[0mv\u001b[0m\u001b[0;34m\u001b[0m\u001b[0m\n",
      "\u001b[0;31mValueError\u001b[0m: operands could not be broadcast together with shapes (6,) (2,) "
     ]
    }
   ],
   "source": [
    "singleVcycle(u0, levels)"
   ]
  },
  {
   "cell_type": "code",
   "execution_count": null,
   "metadata": {},
   "outputs": [],
   "source": []
  }
 ],
 "metadata": {
  "kernelspec": {
   "display_name": "Python 3",
   "language": "python",
   "name": "python3"
  },
  "language_info": {
   "codemirror_mode": {
    "name": "ipython",
    "version": 3
   },
   "file_extension": ".py",
   "mimetype": "text/x-python",
   "name": "python",
   "nbconvert_exporter": "python",
   "pygments_lexer": "ipython3",
   "version": "3.6.6"
  }
 },
 "nbformat": 4,
 "nbformat_minor": 2
}
