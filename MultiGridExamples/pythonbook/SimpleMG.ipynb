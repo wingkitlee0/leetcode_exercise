{
 "cells": [
  {
   "cell_type": "code",
   "execution_count": 15,
   "metadata": {},
   "outputs": [],
   "source": [
    "import numpy as np\n",
    "import matplotlib.pyplot as plt"
   ]
  },
  {
   "cell_type": "code",
   "execution_count": 16,
   "metadata": {},
   "outputs": [],
   "source": [
    "class Grid:\n",
    "    def __init__(self, N, xmin=0.0, xmax=1.0):\n",
    "        assert(N % 2 == 0)\n",
    "        self.N = N\n",
    "        self.xmin = xmin\n",
    "        self.xmax = xmax\n",
    "        self.h = (self.xmax-self.xmin)/self.N\n",
    "        self.h2 = self.h**2\n",
    "        self.x = np.linspace(0.0, 1.0, self.N, endpoint=False) + 0.5/self.N\n",
    "    \n",
    "class MGMatrices(Grid):\n",
    "    def __init__(self, N, xmin=0.0, xmax=1.0):\n",
    "        Grid.__init__(self, N, xmin=xmin, xmax=xmax)\n",
    "        \n",
    "        self.AA = self.set_AA(self.N)\n",
    "        self.RR = self.set_RR(self.N)\n",
    "        self.II = self.set_II(self.N)\n",
    "        \n",
    "    def set_AA_s(self, N):\n",
    "        \"\"\"\n",
    "        This is for the \"standard\" grid (not cell-centered)\n",
    "        \"\"\"\n",
    "        AA = np.zeros((N, N))\n",
    "        stencil = np.array([1,-2,1]) / self.h2\n",
    "        AA[0,:2] = stencil[1:]\n",
    "        for i in range(1,N-1):\n",
    "            AA[i,i-1:i+2] = stencil[:]\n",
    "        AA[-1,-2:] = stencil[:-1]\n",
    "        return AA\n",
    "    \n",
    "    def set_AA(self, N):\n",
    "        \"\"\"\n",
    "        This is for the cell-centered grid with zero BCs.\n",
    "        \"\"\"\n",
    "        AA = np.zeros((N, N))\n",
    "        stencil = np.array([1,-2,1]) / self.h2\n",
    "        AA[0,:2] = np.array([-3,1]) / self.h2\n",
    "        for i in range(1,N-1):\n",
    "            AA[i,i-1:i+2] = stencil[:]\n",
    "        AA[-1,-2:] = np.array([1,-3]) / self.h2\n",
    "        return AA\n",
    "    \n",
    "    def smoothing_full(self, u, rhs):\n",
    "        \"\"\"\n",
    "        smoothing: this is a single step Jacobi iteration\n",
    "        \"\"\"\n",
    "        assert(u.shape[0] % 2 == 0)\n",
    "        v = u.copy()\n",
    "        v[0]    = 1.0/3.0* (u[1] - self.h2 * rhs[0] )\n",
    "        v[1:-1] = 0.5*(u[2:] + u[:-2] - self.h2 * rhs[1:-1] )\n",
    "        v[-1]   = 1.0/3.0*(u[-2] - self.h2 * rhs[-1] )\n",
    "        return v\n",
    "    \n",
    "    def set_RR(self, N):\n",
    "        assert(N % 2 == 0)\n",
    "\n",
    "        RR = np.zeros((N//2, N))\n",
    "        for i in range(N//2):\n",
    "            RR[i,2*i+0] = 0.5\n",
    "            RR[i,2*i+1] = 0.5\n",
    "        return RR\n",
    "\n",
    "    def set_II(self, N):\n",
    "        \"\"\"\n",
    "        Matrix for interpolation. Zero BC only\n",
    "        \"\"\"\n",
    "        assert(N % 2 == 0)\n",
    "\n",
    "        II = np.zeros((N, N//2))\n",
    "        II[0,0] = 0.5\n",
    "        for i in range(N//2-1):\n",
    "            II[1+2*i, i+0] = 0.75\n",
    "            II[1+2*i, i+1] = 0.25\n",
    "            II[2+2*i, i+0] = 0.25\n",
    "            II[2+2*i, i+1] = 0.75\n",
    "        II[-1,-1] = 0.5\n",
    "        return II\n",
    "\n",
    "    def smoothing_jacobi(self, u, rhs, omega=2.0/3.0):\n",
    "        return (1.0-omega)*u + omega*self.smoothing_full(u, rhs)"
   ]
  },
  {
   "cell_type": "code",
   "execution_count": 17,
   "metadata": {},
   "outputs": [],
   "source": [
    "class MultiGrid(MGMatrices):\n",
    "    def __init__(self, Nmax, xmin=0.0, xmax=1.0, maxlevel=2, nu=2):\n",
    "        \"\"\"\n",
    "        Args:\n",
    "            Nmax : number of cells at the finest level\n",
    "        \"\"\"\n",
    "        self.Nmax = Nmax\n",
    "        self.xmin = xmin\n",
    "        self.xmax = xmax\n",
    "        self.nu = nu\n",
    "        \n",
    "        self.maxlevel = int(np.log(Nmax)/np.log(2))\n",
    "        if maxlevel < self.maxlevel:\n",
    "            self.maxlevel = maxlevel\n",
    "            \n",
    "        self.Nlist = [self.Nmax//(2**i) for i in range(0, self.maxlevel)]\n",
    "        \n",
    "        print(self.maxlevel, self.Nlist)\n",
    "        \n",
    "        self.GridList = []\n",
    "        for i in range(self.maxlevel):\n",
    "            self.GridList.append( MGMatrices(self.Nlist[i], self.xmin, self.xmax) )\n",
    "        \n",
    "        \n",
    "    def smoothing(self, u, rhs, level, omega=2.0/3.0, nu=None):\n",
    "        \"\"\"\n",
    "        Args:\n",
    "            u, rhs :\n",
    "            nu : number of times to iterate\n",
    "        \"\"\"\n",
    "        if nu is None:\n",
    "            nu = self.nu        \n",
    "        \n",
    "        uout = u.copy()\n",
    "        for j in range(nu):\n",
    "            #print(\"\\t smoothing for the {}-th times\".format(j))\n",
    "            uout = self.GridList[level].smoothing_jacobi(uout, rhs, omega)\n",
    "        return uout\n",
    "       \n",
    "        \n",
    "    def computeCorrection(self, u, f, level, omega=2.0/3.0):\n",
    "        \"\"\"\n",
    "        computeCorrection:\n",
    "        - if level == maxlevel:\n",
    "            f = R e_l-1\n",
    "            \n",
    "        - elif level < maxlevel:\n",
    "        \n",
    "        \"\"\"\n",
    "        if level==self.maxlevel-1:\n",
    "            #print(\"level =  {} (max)\".format(level))\n",
    "            #print(\"\\t solve A_L e_L = r_L\")\n",
    "            e_curr = np.linalg.solve(self.GridList[level].AA, f)\n",
    "        else:\n",
    "            #print(\"level = \", level)\n",
    "            u = self.smoothing(u, f, level, omega, nu=self.nu)\n",
    "            \n",
    "            #print(\"\\t computing residual: r = f - A_l u_l\")\n",
    "            r = f - np.dot(self.GridList[level].AA, u)\n",
    "            #print(\"\\t restriction from l to l+1 level\")\n",
    "            #r_c = R_l r\n",
    "            rc = np.dot(self.GridList[level].RR, r)\n",
    "            u_next = np.zeros_like(rc)\n",
    "            e_next = self.computeCorrection( u_next, rc, level+1)\n",
    "            #print(\"\\t interpolation from l+1 to l-th level\")\n",
    "            e_curr = np.dot(self.GridList[level].II, e_next)\n",
    "            #print(\"level = \", level)\n",
    "            e_curr = self.smoothing(e_curr, f, level, omega, nu=self.nu)\n",
    "            \n",
    "        return e_curr"
   ]
  },
  {
   "cell_type": "code",
   "execution_count": 30,
   "metadata": {},
   "outputs": [
    {
     "name": "stdout",
     "output_type": "stream",
     "text": [
      "4 [16, 8, 4, 2]\n"
     ]
    }
   ],
   "source": [
    "func = lambda x: np.sin(x) # this is RHS\n",
    "MG = MultiGrid(Nmax=2**4, maxlevel=10)\n",
    "rhs_fine = func(MG.GridList[0].x)\n",
    "corr = MG.computeCorrection(np.zeros(MG.Nmax),rhs_fine,level=0, omega=1.0)"
   ]
  },
  {
   "cell_type": "code",
   "execution_count": 31,
   "metadata": {},
   "outputs": [
    {
     "name": "stdout",
     "output_type": "stream",
     "text": [
      "[0.03125 0.09375 0.15625 0.21875 0.28125 0.34375 0.40625 0.46875 0.53125\n",
      " 0.59375 0.65625 0.71875 0.78125 0.84375 0.90625 0.96875]\n",
      "[0.0625 0.1875 0.3125 0.4375 0.5625 0.6875 0.8125 0.9375]\n",
      "[0.125 0.375 0.625 0.875]\n",
      "[0.25 0.75]\n"
     ]
    }
   ],
   "source": [
    "for i in range(MG.maxlevel):\n",
    "    print(MG.GridList[i].x)"
   ]
  },
  {
   "cell_type": "code",
   "execution_count": 32,
   "metadata": {},
   "outputs": [
    {
     "data": {
      "text/plain": [
       "[<matplotlib.axis.YTick at 0x7fa7a07f6ac8>,\n",
       " <matplotlib.axis.YTick at 0x7fa7a07f63c8>,\n",
       " <matplotlib.axis.YTick at 0x7fa7a080cc88>,\n",
       " <matplotlib.axis.YTick at 0x7fa7a06e0d30>]"
      ]
     },
     "execution_count": 32,
     "metadata": {},
     "output_type": "execute_result"
    },
    {
     "data": {
      "image/png": "[encoded data removed]",
      "text/plain": [
       "<Figure size 432x288 with 1 Axes>"
      ]
     },
     "metadata": {
      "needs_background": "light"
     },
     "output_type": "display_data"
    }
   ],
   "source": [
    "fig, ax = plt.subplots()\n",
    "for i in range(MG.maxlevel):\n",
    "    x = MG.GridList[i].x\n",
    "    y = np.ones_like(x)*i\n",
    "    ax.scatter(x,y)\n",
    "ax.set_yticks(range(MG.maxlevel))"
   ]
  },
  {
   "cell_type": "code",
   "execution_count": 34,
   "metadata": {
    "scrolled": false
   },
   "outputs": [
    {
     "name": "stdout",
     "output_type": "stream",
     "text": [
      "6 [128, 64, 32, 16, 8, 4]\n",
      "l2 = 3.4912856137052284e-05\n"
     ]
    },
    {
     "data": {
      "text/plain": [
       "[<matplotlib.lines.Line2D at 0x7fa7a00e4da0>]"
      ]
     },
     "execution_count": 34,
     "metadata": {},
     "output_type": "execute_result"
    },
    {
     "data": {
      "image/png": "[encoded data removed]",
      "text/plain": [
       "<Figure size 432x288 with 1 Axes>"
      ]
     },
     "metadata": {
      "needs_background": "light"
     },
     "output_type": "display_data"
    },
    {
     "data": {
      "image/png": "[encoded data removed]",
      "text/plain": [
       "<Figure size 432x288 with 1 Axes>"
      ]
     },
     "metadata": {
      "needs_background": "light"
     },
     "output_type": "display_data"
    },
    {
     "data": {
      "image/png": "[encoded data removed]",
      "text/plain": [
       "<Figure size 432x288 with 1 Axes>"
      ]
     },
     "metadata": {
      "needs_background": "light"
     },
     "output_type": "display_data"
    }
   ],
   "source": [
    "sol_f = lambda x: -np.sin(x) + np.sin(1.0) * x\n",
    "\n",
    "MG = MultiGrid(Nmax=128, maxlevel=6, nu=10)\n",
    "rhs_fine = func(MG.GridList[0].x)\n",
    "\n",
    "u_sol_num = np.linalg.solve(MG.GridList[0].AA, rhs_fine)\n",
    "\n",
    "u_init = MG.GridList[0].x * (1.0-MG.GridList[0].x)\n",
    "u = u_init.copy()\n",
    "u_sol = sol_f(MG.GridList[0].x)\n",
    "\n",
    "fig, ax = plt.subplots()\n",
    "#ax.plot(MG.GridList[0].x, u_sol , 'k--')\n",
    "#ax.plot(MG.GridList[0].x, rhs_fine , 'r--')\n",
    "#ax.plot(MG.GridList[0].x, u_init - u_sol)\n",
    "\n",
    "l2list = []\n",
    "reslist = []\n",
    "for itr in range(100):\n",
    "    corr = MG.computeCorrection(u,rhs_fine,level=0, omega=1.0)\n",
    "    u += corr\n",
    "    res = rhs_fine - np.dot(MG.GridList[0].AA, u)\n",
    "    ax.plot(MG.GridList[0].x, u-u_sol)\n",
    "    l2 = np.sum( (u - u_sol)**2)\n",
    "    l2list.append(l2)\n",
    "    reslist.append(np.sum(res**2)/MG.GridList[0].N)\n",
    "    \n",
    "print(\"l2 = {}\".format(l2))\n",
    "\n",
    "fig, ax = plt.subplots()\n",
    "ax.plot(l2list)\n",
    "ax.plot(reslist)\n",
    "ax.set_yscale(\"log\")\n",
    "ax.set_xscale(\"log\")\n",
    "\n",
    "fig, ax = plt.subplots()\n",
    "ax.plot(MG.GridList[0].x, u-u_sol_num)\n",
    "ax.plot(MG.GridList[0].x, u_sol-u_sol_num)"
   ]
  },
  {
   "cell_type": "code",
   "execution_count": 22,
   "metadata": {},
   "outputs": [
    {
     "name": "stdout",
     "output_type": "stream",
     "text": [
      "1.1701411358425256e-26\n",
      "1.2490879129576197e-05\n"
     ]
    }
   ],
   "source": [
    "u1 = np.linalg.solve(MG.GridList[0].AA, rhs_fine)\n",
    "res = rhs_fine - np.dot(MG.GridList[0].AA, u1)\n",
    "print(np.sum(res**2)/len(res))\n",
    "print(np.sum( (u1-u)**2) )"
   ]
  },
  {
   "cell_type": "code",
   "execution_count": 25,
   "metadata": {
    "scrolled": false
   },
   "outputs": [
    {
     "name": "stdout",
     "output_type": "stream",
     "text": [
      "5000 0.005182782364399233\n",
      "6000 0.0028245380191386053\n",
      "7000 0.0015451880602804988\n",
      "8000 0.0008458367726663426\n",
      "9000 0.00046305895613909517\n",
      "10000 0.00025350895982487073\n",
      "11000 0.0001387878777842644\n",
      "12000 7.598186563648586e-05\n",
      "13000 4.159761231083226e-05\n",
      "14000 2.2773346723203154e-05\n",
      "15000 1.2467670457217039e-05\n",
      "16000 6.8256461627694954e-06\n",
      "17000 3.7368204183593166e-06\n",
      "18000 2.045788267810693e-06\n",
      "19000 1.1200028817667237e-06\n"
     ]
    },
    {
     "data": {
      "image/png": "[encoded data removed]",
      "text/plain": [
       "<Figure size 432x288 with 1 Axes>"
      ]
     },
     "metadata": {
      "needs_background": "light"
     },
     "output_type": "display_data"
    }
   ],
   "source": [
    "om_jac = 1.0\n",
    "u = -u_init.copy()*0.25\n",
    "fig, ax = plt.subplots()\n",
    "ax.plot(MG.GridList[0].x, u_sol, 'k--')\n",
    "for itr in range(20000):\n",
    "    u = (1-om_jac) * u + om_jac*MG.GridList[0].smoothing_full(u, rhs_fine)\n",
    "    if itr % 1000 == 0 and itr > 4000:\n",
    "        ax.plot(MG.GridList[0].x, u)\n",
    "        res = rhs_fine - np.dot(MG.GridList[0].AA, u)\n",
    "        print(itr, np.sum(res**2))"
   ]
  },
  {
   "cell_type": "code",
   "execution_count": 26,
   "metadata": {},
   "outputs": [
    {
     "data": {
      "text/plain": [
       "array([[-3.,  1.,  0.,  0.],\n",
       "       [ 1., -2.,  1.,  0.],\n",
       "       [ 0.,  1., -2.,  1.],\n",
       "       [ 0.,  0.,  1., -3.]])"
      ]
     },
     "execution_count": 26,
     "metadata": {},
     "output_type": "execute_result"
    }
   ],
   "source": [
    "MG.GridList[-1].AA * MG.GridList[-1].h2"
   ]
  },
  {
   "cell_type": "code",
   "execution_count": 27,
   "metadata": {},
   "outputs": [
    {
     "data": {
      "text/plain": [
       "array([[-3.,  1.,  0.,  0.],\n",
       "       [ 1., -2.,  1.,  0.],\n",
       "       [ 0.,  1., -2.,  1.],\n",
       "       [ 0.,  0.,  1., -3.]])"
      ]
     },
     "execution_count": 27,
     "metadata": {},
     "output_type": "execute_result"
    }
   ],
   "source": [
    "ii = -2\n",
    "np.dot(MG.GridList[ii].RR, np.dot(MG.GridList[ii].AA, MG.GridList[ii].II)) * MG.GridList[ii+1].h2"
   ]
  },
  {
   "cell_type": "code",
   "execution_count": 28,
   "metadata": {},
   "outputs": [
    {
     "name": "stdout",
     "output_type": "stream",
     "text": [
      "[[-2.  1.  0.]\n",
      " [ 1. -2.  1.]\n",
      " [ 0.  1. -3.]]\n",
      "[[-2.  1.  0.]\n",
      " [ 1. -2.  1.]\n",
      " [ 0.  1. -3.]]\n",
      "[[-2.  1.  0.]\n",
      " [ 1. -2.  1.]\n",
      " [ 0.  1. -3.]]\n",
      "[[-2.  1.  0.]\n",
      " [ 1. -2.  1.]\n",
      " [ 0.  1. -3.]]\n",
      "[[-2.  1.  0.]\n",
      " [ 1. -2.  1.]\n",
      " [ 0.  1. -3.]]\n",
      "[[-2.  1.  0.]\n",
      " [ 1. -2.  1.]\n",
      " [ 0.  1. -3.]]\n"
     ]
    }
   ],
   "source": [
    "for lvl, grid in enumerate(MG.GridList):\n",
    "    print(MG.GridList[lvl].AA[-3:,-3:] * MG.GridList[lvl].h2)"
   ]
  },
  {
   "cell_type": "code",
   "execution_count": 29,
   "metadata": {},
   "outputs": [
    {
     "data": {
      "text/plain": [
       "array([[0.5 , 0.  ],\n",
       "       [0.75, 0.25],\n",
       "       [0.25, 0.75],\n",
       "       [0.  , 0.5 ]])"
      ]
     },
     "execution_count": 29,
     "metadata": {},
     "output_type": "execute_result"
    }
   ],
   "source": [
    "MG.GridList[-1].II"
   ]
  },
  {
   "cell_type": "code",
   "execution_count": null,
   "metadata": {},
   "outputs": [],
   "source": []
  },
  {
   "cell_type": "code",
   "execution_count": null,
   "metadata": {},
   "outputs": [],
   "source": []
  }
 ],
 "metadata": {
  "kernelspec": {
   "display_name": "Python 3",
   "language": "python",
   "name": "python3"
  },
  "language_info": {
   "codemirror_mode": {
    "name": "ipython",
    "version": 3
   },
   "file_extension": ".py",
   "mimetype": "text/x-python",
   "name": "python",
   "nbconvert_exporter": "python",
   "pygments_lexer": "ipython3",
   "version": "3.6.8"
  }
 },
 "nbformat": 4,
 "nbformat_minor": 2
}
