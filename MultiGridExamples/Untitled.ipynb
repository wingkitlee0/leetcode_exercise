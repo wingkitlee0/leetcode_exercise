{
 "cells": [
  {
   "cell_type": "code",
   "execution_count": 229,
   "metadata": {},
   "outputs": [],
   "source": [
    "import numpy as np\n",
    "import matplotlib.pyplot as plt"
   ]
  },
  {
   "cell_type": "code",
   "execution_count": 230,
   "metadata": {},
   "outputs": [],
   "source": [
    "class Stencil:\n",
    "    def __init__(self, order=2):\n",
    "        self.stencil = [1,-2,1]\n",
    "        self.n = len(self.stencil)\n",
    "        self.c = self.n // 2"
   ]
  },
  {
   "cell_type": "code",
   "execution_count": 231,
   "metadata": {},
   "outputs": [
    {
     "name": "stdout",
     "output_type": "stream",
     "text": [
      "1\n"
     ]
    }
   ],
   "source": [
    "\"\"\"\n",
    "Simple 1D multigrid for u'' = 1, u(0)=u(6h)=0\n",
    "\n",
    "0123456\n",
    "|-----|\n",
    "\"\"\"\n",
    "N = 5\n",
    "\n",
    "A_h = np.zeros((N,N))\n",
    "stl = Stencil()\n",
    "print(stl.c)\n",
    "\n",
    "\n",
    "A_h[0,:stl.n-stl.c] = stl.stencil[stl.c:stl.n]\n",
    "for i in range(stl.c,N-stl.c):\n",
    "    A_h[i,i-stl.c:i+stl.c+1] = stl.stencil[:]\n",
    "A_h[-1,N-stl.n+1:] = stl.stencil[:-1]\n",
    "\n",
    "f_h = -np.ones(N)\n",
    "u_h = np.zeros(N)\n",
    "\n",
    "R_h = 0.25*np.array([[1,2,1,0,0],[0,0,1,2,1]])\n",
    "I_h = 2.0*R_h.T"
   ]
  },
  {
   "cell_type": "code",
   "execution_count": 232,
   "metadata": {},
   "outputs": [
    {
     "data": {
      "text/plain": [
       "array([[-2.,  1.,  0.,  0.,  0.],\n",
       "       [ 1., -2.,  1.,  0.,  0.],\n",
       "       [ 0.,  1., -2.,  1.,  0.],\n",
       "       [ 0.,  0.,  1., -2.,  1.],\n",
       "       [ 0.,  0.,  0.,  1., -2.]])"
      ]
     },
     "execution_count": 232,
     "metadata": {},
     "output_type": "execute_result"
    }
   ],
   "source": [
    "A_h"
   ]
  },
  {
   "cell_type": "code",
   "execution_count": 239,
   "metadata": {},
   "outputs": [],
   "source": [
    "# single iteration, single level\n",
    "def singleiteration(u_h):\n",
    "    r_h = f_h - np.matmul(A_h,u_h)\n",
    "    r_2h = np.dot(R_h, r_h)\n",
    "    A_2h = np.dot(R_h, np.dot(A_h, I_h))\n",
    "    e_2h = np.linalg.solve(A_2h, r_2h)\n",
    "    e_h = np.dot(I_h, e_2h)\n",
    "    return e_h"
   ]
  },
  {
   "cell_type": "code",
   "execution_count": 240,
   "metadata": {},
   "outputs": [],
   "source": [
    "for i in range(1000):\n",
    "    u_h += singleiteration(u_h)"
   ]
  },
  {
   "cell_type": "code",
   "execution_count": 241,
   "metadata": {},
   "outputs": [
    {
     "name": "stdout",
     "output_type": "stream",
     "text": [
      "u_h =  [2. 4. 4. 4. 2.]\n",
      "e_h =  [-0.0703125 -0.140625  -0.140625  -0.140625  -0.0703125]\n"
     ]
    }
   ],
   "source": [
    "print(\"u_h = \", u_h)\n",
    "print(\"e_h = \", e_h)"
   ]
  },
  {
   "cell_type": "code",
   "execution_count": null,
   "metadata": {},
   "outputs": [],
   "source": []
  },
  {
   "cell_type": "code",
   "execution_count": 242,
   "metadata": {},
   "outputs": [
    {
     "data": {
      "text/plain": [
       "[<matplotlib.lines.Line2D at 0x1fc703cafd0>]"
      ]
     },
     "execution_count": 242,
     "metadata": {},
     "output_type": "execute_result"
    },
    {
     "data": {
      "image/png": "[encoded data removed]",
      "text/plain": [
       "<Figure size 432x288 with 1 Axes>"
      ]
     },
     "metadata": {
      "needs_background": "light"
     },
     "output_type": "display_data"
    }
   ],
   "source": [
    "usol_f = lambda x: -0.5*x**2 + 3*x\n",
    "x = np.linspace(0,6)\n",
    "xg = np.arange(1,6)\n",
    "usol = usol_f(x)\n",
    "\n",
    "fig = plt.figure()\n",
    "ax = fig.add_subplot(111)\n",
    "ax.plot(x, usol)\n",
    "ax.plot(xg, usol_f(xg), 'o')\n",
    "ax.plot(xg, u_h, 'o')"
   ]
  },
  {
   "cell_type": "code",
   "execution_count": 244,
   "metadata": {},
   "outputs": [
    {
     "data": {
      "text/plain": [
       "array([ 1., -1.,  1., -1.,  1.])"
      ]
     },
     "execution_count": 244,
     "metadata": {},
     "output_type": "execute_result"
    }
   ],
   "source": [
    "np.dot(A_h, u_h)-f_h"
   ]
  },
  {
   "cell_type": "code",
   "execution_count": 238,
   "metadata": {},
   "outputs": [
    {
     "ename": "IndentationError",
     "evalue": "expected an indented block (<ipython-input-238-4d1b3fd18411>, line 20)",
     "output_type": "error",
     "traceback": [
      "\u001b[1;36m  File \u001b[1;32m\"<ipython-input-238-4d1b3fd18411>\"\u001b[1;36m, line \u001b[1;32m20\u001b[0m\n\u001b[1;33m    f_h = -np.ones(N)\u001b[0m\n\u001b[1;37m                     ^\u001b[0m\n\u001b[1;31mIndentationError\u001b[0m\u001b[1;31m:\u001b[0m expected an indented block\n"
     ]
    }
   ],
   "source": [
    "class MultiGrid1D:\n",
    "    def __init__(self, N=5):\n",
    "        self.N = N\n",
    "        assert(N>=5)\n",
    "        self.stl = Stencil()\n",
    "        self.A_h = self.setA()\n",
    "        \n",
    "\n",
    "    def setA_h(self):\n",
    "        stl = Stencil()\n",
    "        A_h = np.zeros((N,N))\n",
    "        A_h[0,:stl.n-stl.c] = stl.stencil[stl.c:stl.n]\n",
    "        for i in range(stl.c,N-stl.c):\n",
    "            A_h[i,i-stl.c:i+stl.c+1] = stl.stencil[:]\n",
    "        A_h[-1,N-stl.n+1:] = stl.stencil[:-1]\n",
    "        \n",
    "    def setR_h(self):\n",
    "        \n",
    "\n",
    "f_h = -np.ones(N)\n",
    "u_h = np.zeros(N)\n",
    "\n",
    "R_h = 0.25*np.array([[1,2,1,0,0],[0,0,1,2,1]])\n",
    "I_h = 2.0*R_h.T"
   ]
  },
  {
   "cell_type": "code",
   "execution_count": null,
   "metadata": {},
   "outputs": [],
   "source": []
  }
 ],
 "metadata": {
  "kernelspec": {
   "display_name": "PyCUDA",
   "language": "python",
   "name": "cuda3"
  },
  "language_info": {
   "codemirror_mode": {
    "name": "ipython",
    "version": 3
   },
   "file_extension": ".py",
   "mimetype": "text/x-python",
   "name": "python",
   "nbconvert_exporter": "python",
   "pygments_lexer": "ipython3",
   "version": "3.7.3"
  }
 },
 "nbformat": 4,
 "nbformat_minor": 2
}
