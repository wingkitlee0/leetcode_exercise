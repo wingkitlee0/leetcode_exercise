{
 "cells": [
  {
   "cell_type": "code",
   "execution_count": 1,
   "metadata": {},
   "outputs": [],
   "source": [
    "import numpy as np"
   ]
  },
  {
   "cell_type": "code",
   "execution_count": 44,
   "metadata": {},
   "outputs": [],
   "source": [
    "def LUDecomp(A):\n",
    "    M, N = A.shape\n",
    "    print(\"# Shape of A : {} {}\".format(M, N))\n",
    "    \n",
    "    if M == 1:\n",
    "        return A\n",
    "\n",
    "    for i in range(1,M):\n",
    "        A[i,0] = A[i,0]/A[0,0]\n",
    "        \n",
    "    if N == 1:\n",
    "        return A\n",
    "    \n",
    "    A[1:,1:] = A[1:,1:] - np.outer(A[1:,0],A[0,1:])\n",
    "    \n",
    "    A[1:,1:] = LUDecomp(A[1:,1:])\n",
    "        \n",
    "    return A\n",
    "\n",
    "def getLU(A):\n",
    "    M, N = A.shape\n",
    "    L = np.zeros( (M, N))\n",
    "    U = np.zeros( (N, N))\n",
    "    \n",
    "    for i in range(N):\n",
    "        L[i,i] = 1\n",
    "        L[i+1:,i] = A[i+1:,i]\n",
    "        U[i,i:] = A[i, i:]\n",
    "    return L, U"
   ]
  },
  {
   "cell_type": "code",
   "execution_count": 45,
   "metadata": {},
   "outputs": [
    {
     "name": "stdout",
     "output_type": "stream",
     "text": [
      "[[2 1 1 0]\n",
      " [4 3 3 1]\n",
      " [8 7 9 5]\n",
      " [6 7 9 8]]\n",
      "# Shape of A : 4 4\n",
      "# Shape of A : 3 3\n",
      "# Shape of A : 2 2\n",
      "# Shape of A : 1 1\n",
      "[[2 1 1 0]\n",
      " [2 1 1 1]\n",
      " [4 3 2 2]\n",
      " [3 4 1 2]]\n",
      "[[1. 0. 0. 0.]\n",
      " [2. 1. 0. 0.]\n",
      " [4. 3. 1. 0.]\n",
      " [3. 4. 1. 1.]]\n",
      "[[2. 1. 1. 0.]\n",
      " [0. 1. 1. 1.]\n",
      " [0. 0. 2. 2.]\n",
      " [0. 0. 0. 2.]]\n"
     ]
    }
   ],
   "source": [
    "A = np.array([[2,1,1,0],[4,3,3,1],[8,7,9,5],[6,7,9,8]])\n",
    "print(A)\n",
    "A = LUDecomp(A)\n",
    "print(A)\n",
    "L, U = getLU(A)\n",
    "print(L)\n",
    "print(U)"
   ]
  },
  {
   "cell_type": "code",
   "execution_count": 46,
   "metadata": {},
   "outputs": [
    {
     "data": {
      "text/plain": [
       "array([[0., 0., 0., 0.],\n",
       "       [0., 0., 0., 0.],\n",
       "       [0., 0., 0., 0.],\n",
       "       [0., 0., 0., 0.]])"
      ]
     },
     "execution_count": 46,
     "metadata": {},
     "output_type": "execute_result"
    }
   ],
   "source": [
    "L + U - np.eye(4) - A"
   ]
  },
  {
   "cell_type": "code",
   "execution_count": 47,
   "metadata": {},
   "outputs": [
    {
     "data": {
      "text/plain": [
       "array([[2., 1., 1., 0.],\n",
       "       [4., 3., 3., 1.],\n",
       "       [8., 7., 9., 5.],\n",
       "       [6., 7., 9., 8.]])"
      ]
     },
     "execution_count": 47,
     "metadata": {},
     "output_type": "execute_result"
    }
   ],
   "source": [
    "np.dot(L, U)"
   ]
  },
  {
   "cell_type": "code",
   "execution_count": 64,
   "metadata": {},
   "outputs": [
    {
     "name": "stdout",
     "output_type": "stream",
     "text": [
      "# Shape of A : 15 4\n",
      "# Shape of A : 14 3\n",
      "# Shape of A : 13 2\n",
      "# Shape of A : 12 1\n",
      "0.04190139877173671\n"
     ]
    },
    {
     "data": {
      "text/plain": [
       "True"
      ]
     },
     "execution_count": 64,
     "metadata": {},
     "output_type": "execute_result"
    }
   ],
   "source": [
    "M = 15; N = 4\n",
    "#np.random.seed(1234)\n",
    "A = np.random.random((M,N))\n",
    "L, U = getLU(LUDecomp(A.copy()))\n",
    "print(A[0,0])\n",
    "#print(L)\n",
    "#print(U)\n",
    "np.allclose(np.dot(L, U), A)"
   ]
  },
  {
   "cell_type": "code",
   "execution_count": 52,
   "metadata": {},
   "outputs": [
    {
     "data": {
      "text/plain": [
       "True"
      ]
     },
     "execution_count": 52,
     "metadata": {},
     "output_type": "execute_result"
    }
   ],
   "source": []
  },
  {
   "cell_type": "code",
   "execution_count": null,
   "metadata": {},
   "outputs": [],
   "source": []
  }
 ],
 "metadata": {
  "kernelspec": {
   "display_name": "Python 3",
   "language": "python",
   "name": "python3"
  },
  "language_info": {
   "codemirror_mode": {
    "name": "ipython",
    "version": 3
   },
   "file_extension": ".py",
   "mimetype": "text/x-python",
   "name": "python",
   "nbconvert_exporter": "python",
   "pygments_lexer": "ipython3",
   "version": "3.6.8"
  }
 },
 "nbformat": 4,
 "nbformat_minor": 2
}
